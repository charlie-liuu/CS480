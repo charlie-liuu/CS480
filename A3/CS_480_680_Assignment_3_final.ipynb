{
  "cells": [
    {
      "cell_type": "markdown",
      "metadata": {
        "id": "uHZhkDjZEV-5"
      },
      "source": [
        "# CS 480/680 assignment 3\n",
        "\n",
        "Tips:\n",
        "- Please save a copy of this notebook to avoid losing your changes.\n",
        "- Debug your code and ensure that it can run.\n",
        "- Save the output of each cell. Failure to do so may result in your coding questions not being graded.\n",
        "- To accelerate the training time, you can choose 'Runtime' -> 'Change runtime type' -> 'Hardware accelerator' and set 'Hardware accelerator' to 'GPU'.\n",
        "- Your grade is independent of the accuracy of your models. Your grade will depend on the correctness of your code and implementation.\n",
        "\n",
        "Tips for sumbission:\n",
        "- Do not change the order of the problems.\n",
        "- Select 'Runtime' -> 'Run all' to run all cells and generate a final \"gradable\" version of your notebook and save your ipynb file.\n",
        "- Also use 'File' -> 'Print' and then print your report from your browser into a PDF file."
      ]
    },
    {
      "cell_type": "markdown",
      "metadata": {
        "id": "GK9gmfL4KxeF"
      },
      "source": [
        "## Question 1 - Implementing GAN for MNIST dataset (35 points)\n",
        "\n",
        "In this question we are going to impelement a generative network that can generate MNIST handwritten digits from random Gaussian noise."
      ]
    },
    {
      "cell_type": "markdown",
      "metadata": {
        "id": "_n-Mg5YdE5YR"
      },
      "source": [
        "### Q1.1 (2 points)\n",
        "\n",
        "We start by creating the data loaders. Note that each MNIST image is of size 28\\*28. The **first task** is to build the ```data_loader```"
      ]
    },
    {
      "cell_type": "code",
      "execution_count": 29,
      "metadata": {
        "colab": {
          "base_uri": "https://localhost:8080/"
        },
        "id": "z-BU1m9IEXKY",
        "outputId": "e1aae1a6-3f14-4aa3-9b85-353ff6a40396"
      },
      "outputs": [],
      "source": [
        "import torch\n",
        "import torch.nn as nn\n",
        "import torch.optim as optim\n",
        "from torchvision import datasets, transforms\n",
        "from torch.utils.data import DataLoader\n",
        "import matplotlib.pyplot as plt\n",
        "import os\n",
        "\n",
        "\n",
        "# Setting the device\n",
        "device = torch.device('cuda' if torch.cuda.is_available() else 'cpu')\n",
        "\n",
        "transform = transforms.Compose([\n",
        "    transforms.ToTensor(),\n",
        "    transforms.Normalize((0.5,), (0.5,))\n",
        "])\n",
        "batch_size = 100\n",
        "train_dataset = datasets.MNIST(root='./data', train=True, transform=transform, download=True)\n",
        "\n",
        "#ToDo: Build the train data loader using the above batch_size varibale and shuffling the dataset.\n",
        "data_loader = DataLoader(train_dataset, batch_size=batch_size, shuffle=True)\n"
      ]
    },
    {
      "cell_type": "markdown",
      "metadata": {
        "id": "w_-NwpdfFGQs"
      },
      "source": [
        "### Q1.2 Generator (5 points)\n",
        "We will be building simple Generator and Discriminators that only consist of fully-connected layers. The Generator takes as input a Gaussian vector with dimension ```n_dim```. It consists of two linear layers with ```256``` and ```512``` nodes and the output layer should of dimension ```28*28=784``` so that it can be considered as unfolding a ```28*28``` image into a vector. The **second task** is to complete the following code for building the Generator."
      ]
    },
    {
      "cell_type": "code",
      "execution_count": 30,
      "metadata": {
        "id": "uACYmlwwG2tL"
      },
      "outputs": [],
      "source": [
        "class Generator(nn.Module):\n",
        "    def __init__(self, n_dim):\n",
        "        super(Generator, self).__init__()\n",
        "        #ToDo: Complete the code\n",
        "        #The activation function for the two hidden layers is ReLU.\n",
        "        #The last layer's activation function is Tanh.\n",
        "        self.fc1 = nn.Linear(n_dim, 256)\n",
        "        self.fc2 = nn.Linear(256, 512)\n",
        "        self.fc3 = nn.Linear(512, 784)\n",
        "        self.relu = nn.ReLU()\n",
        "        self.tanh = nn.Tanh()\n",
        "\n",
        "\n",
        "    def forward(self, x):\n",
        "        #ToDo: Complete this function. The function takes as input x and outputs the result of applying the generator on x.\n",
        "        x = self.relu(self.fc1(x))\n",
        "        x = self.relu(self.fc2(x))\n",
        "        x = self.tanh(self.fc3(x))\n",
        "        return x\n"
      ]
    },
    {
      "cell_type": "markdown",
      "metadata": {
        "id": "InnZY0glITeK"
      },
      "source": [
        "### Q1.3 Discriminator (5 points)\n",
        "The Discriminator takes as input an image of size ```28*28```. It consists of two linear layers with ```512``` and ```256``` nodes and the output layer should be a single node. The **third task** complete the following code for building the Discriminator."
      ]
    },
    {
      "cell_type": "code",
      "execution_count": 31,
      "metadata": {
        "id": "t5hdsi10JWJI"
      },
      "outputs": [],
      "source": [
        "class Discriminator(nn.Module):\n",
        "    def __init__(self):\n",
        "        super(Discriminator, self).__init__()\n",
        "            #ToDo: Complete the code\n",
        "            #The activation functions for the two hidden layers are ReLU.\n",
        "            #The last layer's activation function is Sigmoid.\n",
        "        self.fc1 = nn.Linear(28*28, 512)\n",
        "        self.fc2 = nn.Linear(512, 256)\n",
        "        self.fc3 = nn.Linear(256, 1)\n",
        "        self.relu = nn.ReLU()\n",
        "        self.sigmoid = nn.Sigmoid()\n",
        "\n",
        "\n",
        "    def forward(self, x):\n",
        "        x = x.view(x.size(0), -1) # Making sure that the batch of images has the shape [batch_size,28*28] instead of [batch_size,1,28,28]\n",
        "        #ToDo: Complete this function. The function takes as input x and outputs the result of applying the generator on x.\n",
        "        x = self.relu(self.fc1(x))\n",
        "        x = self.relu(self.fc2(x))\n",
        "        x = self.sigmoid(self.fc3(x))\n",
        "        return x\n"
      ]
    },
    {
      "cell_type": "markdown",
      "metadata": {
        "id": "SXItGnRYK69p"
      },
      "source": [
        "### Q1.4 Initializaiton (2 points)\n",
        "\n",
        "The **fourth task** is to define the optimizers."
      ]
    },
    {
      "cell_type": "code",
      "execution_count": 32,
      "metadata": {
        "id": "FyuaaCJLLCdE"
      },
      "outputs": [],
      "source": [
        "n_dim = 100\n",
        "generator = Generator(n_dim).to(device)\n",
        "discriminator = Discriminator().to(device)\n",
        "lr = 0.0002\n",
        "\n",
        "\n",
        "criterion = nn.BCELoss()\n",
        "#ToDo: define the two different Adam optimizers for generator and discriminator with learning rates of lr.\n",
        "\n",
        "d_optimizer = optim.Adam(discriminator.parameters(), lr=lr)\n",
        "g_optimizer = optim.Adam(generator.parameters(), lr=lr)"
      ]
    },
    {
      "cell_type": "markdown",
      "metadata": {
        "id": "ASpkAhASZs-m"
      },
      "source": [
        "### Q1.5 Training (16 points)\n",
        "\n",
        "Note that when applying the ```criterion``` both the inputs should be on the same device. If you are defining a set of labels that you want to use in ```criterion``` you must move them to ```device``` first.\n",
        "\n",
        "Recall from the Goodfellow et al. 2014 that the following happens during the minimax game between Discriminator and the Generator.\n",
        "\n",
        "Discriminator is ascending\n",
        "$\\nabla\\frac{1}{m}\\sum_{i=1}^m\\log D(x^{(i)}) + \\log(1-D(G(z^{(i)})))$ where $D$ and $G$ denote the Districiminator and the Generator, respectively. Here, $x^{1},\\ldots,x^{m}$ is the batch of training examples (i.e., MNIST images) and $z^{(1)},\\ldots,z^{(m)}$ is a batch of random noise.\n",
        "\n",
        "Also note that for two batches $x=\\{x^{1},\\ldots,x^{m}\\}$ and $y=\\{y^{1},\\ldots,y^{m}\\}$ the BCELoss function $l(x,y)$ computes the following.\n",
        "$$l(x,y) = \\frac{1}{m}\\sum_{i=1}^m y^{(i)}\\log x^{(i)} + (1-y^{(i)})\\log (1- x^{(i)})$$\n",
        "\n",
        "The **fifth task** is to make sure that ```d_loss``` is computing the quantity that discriminator wants to ascend. This is achieved by setting ```d_loss = d_loss_real + d_loss_fake``` and letting ```d_loss_real``` to be $\\frac{1}{m}\\sum_{i=1}^m\\log D(x^{(i)})$ and ```d_loss_fake``` to be $\\frac{1}{m}\\sum_{i=1}^m \\log(1-D(G(z^{(i)})))$. Hint: ```d_loss_real``` is already implemented.\n",
        "\n",
        "We now turn to train the generator. Initially, the generator wants to descend the following $\\nabla\\frac{1}{m}\\sum_{i=1}^m \\log(1-D(G(z^{(i)})))$. However, this may affect the training of the generator specifically in the early stages of training where the discriminator can confidently reject the generated examples [Goodfellow et al., 2014]. Instead, we will require the generator to ascend $\\nabla\\frac{1}{m}\\sum_{i=1}^m \\log(D(G(z^{(i)})))$. The **sixth task** is to compute ```g_loss``` used for training the generator.\n"
      ]
    },
    {
      "cell_type": "code",
      "execution_count": 33,
      "metadata": {
        "colab": {
          "base_uri": "https://localhost:8080/"
        },
        "id": "RA8t-sCQZ8SG",
        "outputId": "60af2e5b-4289-40a8-e30c-04bf2dc59170"
      },
      "outputs": [
        {
          "name": "stdout",
          "output_type": "stream",
          "text": [
            "Epoch [1/50], Step [300/600], Discriminator Loss: 0.3335, Generator Loss: 3.6812\n",
            "Epoch [1/50], Step [600/600], Discriminator Loss: 0.1027, Generator Loss: 4.8390\n",
            "Epoch [2/50], Step [300/600], Discriminator Loss: 0.3501, Generator Loss: 3.7569\n",
            "Epoch [2/50], Step [600/600], Discriminator Loss: 0.2524, Generator Loss: 3.0594\n",
            "Epoch [3/50], Step [300/600], Discriminator Loss: 0.3659, Generator Loss: 3.6568\n",
            "Epoch [3/50], Step [600/600], Discriminator Loss: 0.5375, Generator Loss: 5.5310\n",
            "Epoch [4/50], Step [300/600], Discriminator Loss: 0.5706, Generator Loss: 1.5681\n",
            "Epoch [4/50], Step [600/600], Discriminator Loss: 0.1767, Generator Loss: 3.6159\n",
            "Epoch [5/50], Step [300/600], Discriminator Loss: 0.2325, Generator Loss: 3.6290\n",
            "Epoch [5/50], Step [600/600], Discriminator Loss: 0.3731, Generator Loss: 3.3580\n",
            "Epoch [6/50], Step [300/600], Discriminator Loss: 0.2926, Generator Loss: 4.1402\n",
            "Epoch [6/50], Step [600/600], Discriminator Loss: 0.8758, Generator Loss: 3.6118\n",
            "Epoch [7/50], Step [300/600], Discriminator Loss: 0.3631, Generator Loss: 3.3856\n",
            "Epoch [7/50], Step [600/600], Discriminator Loss: 0.5101, Generator Loss: 4.3404\n",
            "Epoch [8/50], Step [300/600], Discriminator Loss: 0.3288, Generator Loss: 3.3152\n",
            "Epoch [8/50], Step [600/600], Discriminator Loss: 0.6702, Generator Loss: 2.0801\n",
            "Epoch [9/50], Step [300/600], Discriminator Loss: 0.3970, Generator Loss: 3.1726\n",
            "Epoch [9/50], Step [600/600], Discriminator Loss: 0.5824, Generator Loss: 2.4466\n",
            "Epoch [10/50], Step [300/600], Discriminator Loss: 0.2649, Generator Loss: 3.6634\n",
            "Epoch [10/50], Step [600/600], Discriminator Loss: 0.3071, Generator Loss: 4.2688\n",
            "Epoch [11/50], Step [300/600], Discriminator Loss: 0.6675, Generator Loss: 3.4580\n",
            "Epoch [11/50], Step [600/600], Discriminator Loss: 0.1587, Generator Loss: 5.2084\n",
            "Epoch [12/50], Step [300/600], Discriminator Loss: 0.5538, Generator Loss: 2.5026\n",
            "Epoch [12/50], Step [600/600], Discriminator Loss: 0.2156, Generator Loss: 3.6668\n",
            "Epoch [13/50], Step [300/600], Discriminator Loss: 0.1928, Generator Loss: 3.6749\n",
            "Epoch [13/50], Step [600/600], Discriminator Loss: 0.2469, Generator Loss: 4.3576\n",
            "Epoch [14/50], Step [300/600], Discriminator Loss: 0.3387, Generator Loss: 5.5736\n",
            "Epoch [14/50], Step [600/600], Discriminator Loss: 0.3490, Generator Loss: 3.7197\n",
            "Epoch [15/50], Step [300/600], Discriminator Loss: 0.2809, Generator Loss: 4.2669\n",
            "Epoch [15/50], Step [600/600], Discriminator Loss: 0.5877, Generator Loss: 2.8588\n",
            "Epoch [16/50], Step [300/600], Discriminator Loss: 0.3608, Generator Loss: 4.3082\n",
            "Epoch [16/50], Step [600/600], Discriminator Loss: 0.2256, Generator Loss: 3.2752\n",
            "Epoch [17/50], Step [300/600], Discriminator Loss: 0.4629, Generator Loss: 2.9334\n",
            "Epoch [17/50], Step [600/600], Discriminator Loss: 0.3223, Generator Loss: 4.6993\n",
            "Epoch [18/50], Step [300/600], Discriminator Loss: 0.3273, Generator Loss: 4.7904\n",
            "Epoch [18/50], Step [600/600], Discriminator Loss: 0.3473, Generator Loss: 4.3883\n",
            "Epoch [19/50], Step [300/600], Discriminator Loss: 0.3601, Generator Loss: 2.9439\n",
            "Epoch [19/50], Step [600/600], Discriminator Loss: 0.3277, Generator Loss: 2.7880\n",
            "Epoch [20/50], Step [300/600], Discriminator Loss: 0.2611, Generator Loss: 4.0649\n",
            "Epoch [20/50], Step [600/600], Discriminator Loss: 0.3187, Generator Loss: 3.5144\n",
            "Epoch [21/50], Step [300/600], Discriminator Loss: 0.4184, Generator Loss: 3.7874\n",
            "Epoch [21/50], Step [600/600], Discriminator Loss: 0.2735, Generator Loss: 2.9293\n",
            "Epoch [22/50], Step [300/600], Discriminator Loss: 0.6712, Generator Loss: 2.5092\n",
            "Epoch [22/50], Step [600/600], Discriminator Loss: 0.4231, Generator Loss: 2.3430\n",
            "Epoch [23/50], Step [300/600], Discriminator Loss: 0.4056, Generator Loss: 2.6115\n",
            "Epoch [23/50], Step [600/600], Discriminator Loss: 0.4669, Generator Loss: 3.0581\n",
            "Epoch [24/50], Step [300/600], Discriminator Loss: 0.2791, Generator Loss: 3.3116\n",
            "Epoch [24/50], Step [600/600], Discriminator Loss: 0.3980, Generator Loss: 2.9884\n",
            "Epoch [25/50], Step [300/600], Discriminator Loss: 0.4332, Generator Loss: 2.4413\n",
            "Epoch [25/50], Step [600/600], Discriminator Loss: 0.7973, Generator Loss: 3.1649\n",
            "Epoch [26/50], Step [300/600], Discriminator Loss: 0.6571, Generator Loss: 3.2435\n",
            "Epoch [26/50], Step [600/600], Discriminator Loss: 0.2555, Generator Loss: 3.8158\n",
            "Epoch [27/50], Step [300/600], Discriminator Loss: 0.3381, Generator Loss: 2.5305\n",
            "Epoch [27/50], Step [600/600], Discriminator Loss: 0.4714, Generator Loss: 2.3913\n",
            "Epoch [28/50], Step [300/600], Discriminator Loss: 0.3856, Generator Loss: 2.3230\n",
            "Epoch [28/50], Step [600/600], Discriminator Loss: 0.3886, Generator Loss: 3.0849\n",
            "Epoch [29/50], Step [300/600], Discriminator Loss: 0.9624, Generator Loss: 2.7955\n",
            "Epoch [29/50], Step [600/600], Discriminator Loss: 0.4462, Generator Loss: 2.6558\n",
            "Epoch [30/50], Step [300/600], Discriminator Loss: 0.3991, Generator Loss: 2.4716\n",
            "Epoch [30/50], Step [600/600], Discriminator Loss: 0.4944, Generator Loss: 3.6562\n",
            "Epoch [31/50], Step [300/600], Discriminator Loss: 0.5154, Generator Loss: 3.6057\n",
            "Epoch [31/50], Step [600/600], Discriminator Loss: 0.5074, Generator Loss: 2.2239\n",
            "Epoch [32/50], Step [300/600], Discriminator Loss: 0.4636, Generator Loss: 2.8874\n",
            "Epoch [32/50], Step [600/600], Discriminator Loss: 0.5913, Generator Loss: 2.2005\n",
            "Epoch [33/50], Step [300/600], Discriminator Loss: 0.4659, Generator Loss: 2.7781\n",
            "Epoch [33/50], Step [600/600], Discriminator Loss: 0.6279, Generator Loss: 3.6367\n",
            "Epoch [34/50], Step [300/600], Discriminator Loss: 0.6230, Generator Loss: 2.4554\n",
            "Epoch [34/50], Step [600/600], Discriminator Loss: 0.4555, Generator Loss: 2.3664\n",
            "Epoch [35/50], Step [300/600], Discriminator Loss: 0.5538, Generator Loss: 3.0832\n",
            "Epoch [35/50], Step [600/600], Discriminator Loss: 0.4998, Generator Loss: 3.6377\n",
            "Epoch [36/50], Step [300/600], Discriminator Loss: 0.5748, Generator Loss: 2.3442\n",
            "Epoch [36/50], Step [600/600], Discriminator Loss: 0.4514, Generator Loss: 2.9272\n",
            "Epoch [37/50], Step [300/600], Discriminator Loss: 0.5289, Generator Loss: 3.0431\n",
            "Epoch [37/50], Step [600/600], Discriminator Loss: 0.3986, Generator Loss: 3.6503\n",
            "Epoch [38/50], Step [300/600], Discriminator Loss: 0.3958, Generator Loss: 3.3372\n",
            "Epoch [38/50], Step [600/600], Discriminator Loss: 0.7108, Generator Loss: 3.1412\n",
            "Epoch [39/50], Step [300/600], Discriminator Loss: 0.7069, Generator Loss: 2.1862\n",
            "Epoch [39/50], Step [600/600], Discriminator Loss: 0.5644, Generator Loss: 2.3280\n",
            "Epoch [40/50], Step [300/600], Discriminator Loss: 0.4767, Generator Loss: 2.4648\n",
            "Epoch [40/50], Step [600/600], Discriminator Loss: 0.4992, Generator Loss: 2.3911\n",
            "Epoch [41/50], Step [300/600], Discriminator Loss: 0.6331, Generator Loss: 2.5203\n",
            "Epoch [41/50], Step [600/600], Discriminator Loss: 0.3557, Generator Loss: 2.9844\n",
            "Epoch [42/50], Step [300/600], Discriminator Loss: 0.5430, Generator Loss: 2.0119\n",
            "Epoch [42/50], Step [600/600], Discriminator Loss: 0.7083, Generator Loss: 1.8532\n",
            "Epoch [43/50], Step [300/600], Discriminator Loss: 0.5930, Generator Loss: 2.4707\n",
            "Epoch [43/50], Step [600/600], Discriminator Loss: 0.7647, Generator Loss: 2.0789\n",
            "Epoch [44/50], Step [300/600], Discriminator Loss: 0.6751, Generator Loss: 2.1913\n",
            "Epoch [44/50], Step [600/600], Discriminator Loss: 0.4967, Generator Loss: 3.5449\n",
            "Epoch [45/50], Step [300/600], Discriminator Loss: 0.5454, Generator Loss: 2.2827\n",
            "Epoch [45/50], Step [600/600], Discriminator Loss: 0.5808, Generator Loss: 2.1816\n",
            "Epoch [46/50], Step [300/600], Discriminator Loss: 0.6068, Generator Loss: 1.8848\n",
            "Epoch [46/50], Step [600/600], Discriminator Loss: 0.5502, Generator Loss: 1.5733\n",
            "Epoch [47/50], Step [300/600], Discriminator Loss: 0.5996, Generator Loss: 1.8172\n",
            "Epoch [47/50], Step [600/600], Discriminator Loss: 0.5425, Generator Loss: 2.7223\n",
            "Epoch [48/50], Step [300/600], Discriminator Loss: 0.5508, Generator Loss: 2.1439\n",
            "Epoch [48/50], Step [600/600], Discriminator Loss: 0.7645, Generator Loss: 2.8454\n",
            "Epoch [49/50], Step [300/600], Discriminator Loss: 0.7220, Generator Loss: 2.4764\n",
            "Epoch [49/50], Step [600/600], Discriminator Loss: 0.7164, Generator Loss: 2.4832\n",
            "Epoch [50/50], Step [300/600], Discriminator Loss: 0.3355, Generator Loss: 2.5979\n",
            "Epoch [50/50], Step [600/600], Discriminator Loss: 0.7950, Generator Loss: 1.7600\n"
          ]
        }
      ],
      "source": [
        "num_epochs = 50\n",
        "total_step = len(data_loader)\n",
        "for epoch in range(num_epochs):\n",
        "    for i, (images, _) in enumerate(data_loader):\n",
        "        real_images = images.to(device)\n",
        "\n",
        "        # Training discriminator\n",
        "        discriminator.zero_grad()\n",
        "        real_outputs = discriminator(real_images)\n",
        "        real_labels = torch.ones(real_images.size(0), 1).to(device)\n",
        "        d_loss_real = criterion(real_outputs, real_labels)\n",
        "\n",
        "        #ToDo: Compute d_loss_fake\n",
        "        z = torch.randn(batch_size, n_dim).to(device)\n",
        "        fake_images = generator(z)\n",
        "        fake_outputs = discriminator(fake_images)\n",
        "        fake_labels = torch.zeros(fake_images.size(0), 1).to(device)\n",
        "        d_loss_fake = criterion(fake_outputs, fake_labels)\n",
        "        fake_score = fake_outputs\n",
        "\n",
        "\n",
        "        d_loss = d_loss_real + d_loss_fake\n",
        "        d_loss.backward()\n",
        "        d_optimizer.step()\n",
        "\n",
        "        # Training generator\n",
        "        generator.zero_grad()\n",
        "\n",
        "        #ToDo: compute g_loss\n",
        "        z = torch.randn(batch_size, n_dim).to(device)\n",
        "        fake_images = generator(z)\n",
        "        outputs = discriminator(fake_images)\n",
        "        real_labels = torch.ones(fake_images.size(0), 1).to(device)\n",
        "        g_loss = criterion(outputs, real_labels)\n",
        "\n",
        "        g_loss.backward()\n",
        "        g_optimizer.step()\n",
        "\n",
        "        if (i+1) % 300 == 0:\n",
        "            print(f'Epoch [{epoch+1}/{num_epochs}], Step [{i+1}/{total_step}], '\n",
        "                  f'Discriminator Loss: {d_loss.item():.4f}, '\n",
        "                  f'Generator Loss: {g_loss.item():.4f}')"
      ]
    },
    {
      "cell_type": "markdown",
      "metadata": {
        "id": "q3CGaQzDDRg8"
      },
      "source": [
        "### Q1.6 Plotting the results (5 points)\n",
        "The **seventh and final task** for this question is to try the trained generator. Generate 4 random vectors, apply the generator on them, and plot the resulting image in a single 2 by 2 plot."
      ]
    },
    {
      "cell_type": "code",
      "execution_count": 99,
      "metadata": {
        "colab": {
          "base_uri": "https://localhost:8080/",
          "height": 216
        },
        "id": "lvUJnaqSJCPM",
        "outputId": "9cc32594-0edd-4746-ab6b-d1441155a846"
      },
      "outputs": [
        {
          "data": {
            "image/png": "[encoded data removed]",
            "text/plain": [
              "<Figure size 800x800 with 4 Axes>"
            ]
          },
          "metadata": {},
          "output_type": "display_data"
        }
      ],
      "source": [
        "rand_vec = torch.randn(4, n_dim).to(device)\n",
        "with torch.no_grad():\n",
        "  fake_images = generator(rand_vec)\n",
        "  fake_images = fake_images.view(-1, 28, 28).cpu().detach().numpy()\n",
        "\n",
        "# Create a 2x2 grid plot for the generated images\n",
        "fig, axes = plt.subplots(2, 2, figsize=(8, 8))\n",
        "for i in range(2):\n",
        "    for j in range(2):\n",
        "        axes[i, j].imshow(fake_images[i * 2 + j], cmap='gray')\n",
        "        axes[i, j].axis('off')\n",
        "\n",
        "# Display the plot\n",
        "plt.show()"
      ]
    },
    {
      "cell_type": "markdown",
      "metadata": {
        "id": "ifoL2LfccMKA"
      },
      "source": [
        "## Question 2 - Transformers (65 points)\n",
        "In this question we will be implementing a transformer architecture and apply it on a simple artificially generated dataset."
      ]
    },
    {
      "cell_type": "markdown",
      "metadata": {
        "id": "qtZX21CEcu6p"
      },
      "source": [
        "### Q2.1 Multi-Head Attention (9 points)\n",
        "\n",
        "The attention layer works on batches of training data where each training data itself is a sequence of words/token with length at most ```seq_length``` and each word is embedded into a ```d_embedding``` dimensional vector, e.g., later when we run the transformer on the artificial dataset, the inputs to the transformer and attention layer have shapes of ```[batch_size,seq_length,d_embedding]```. Recall from the lecture that a multi-head attention layer consists of ```n_heads``` self-attention heads. The input matrices Query Q, Key K, and Value V to multi-attention head are passed through linear layers $W_Q$, $W_K$, and $W_V$ which are trainable parameters. The multi-head attention will divide the embedding vector of the input into ```n_heads``` vector of size ```d_k``` and use each as an attention head. This is particularly done by the ```make_heads``` function which transforms the input to an output of shape ```[batch_size, n_heads, seq_length, d_k]```. The multi-head attention then computes the probabilities using the input values, which is implemented by the ```compute_attention_probs``` function. It then joins them using the ```join_heads``` function and finally passes them through an output linear layer $W_O$. The **first task** is to implement the ```forward``` function of Multi-Head attention using the functions already implemented."
      ]
    },
    {
      "cell_type": "code",
      "execution_count": 35,
      "metadata": {
        "id": "pE_j8e5u4aLv"
      },
      "outputs": [],
      "source": [
        "import torch\n",
        "import torch.nn as nn\n",
        "import torch.optim as optim\n",
        "import torch.utils.data as data\n",
        "import math\n",
        "import copy\n",
        "\n",
        "\n",
        "class MultiHeadAttention(nn.Module):\n",
        "    def __init__(self, d_embedding, n_heads):\n",
        "        super(MultiHeadAttention, self).__init__()\n",
        "        assert d_embedding % n_heads == 0\n",
        "\n",
        "        self.d_embedding = d_embedding\n",
        "        self.n_heads = n_heads\n",
        "        self.d_k = d_embedding // n_heads\n",
        "\n",
        "        self.W_q = nn.Linear(d_embedding, d_embedding)\n",
        "        self.W_k = nn.Linear(d_embedding, d_embedding)\n",
        "        self.W_v = nn.Linear(d_embedding, d_embedding)\n",
        "        self.W_o = nn.Linear(d_embedding, d_embedding)\n",
        "\n",
        "    def compute_attention_probs(self, Q, K, V, mask=None):\n",
        "        attn_scores = torch.matmul(Q, K.transpose(-2, -1)) / math.sqrt(self.d_k)\n",
        "        if mask is not None:\n",
        "            attn_scores = attn_scores.masked_fill(mask == 0, -1e9)\n",
        "        attn_probs = torch.softmax(attn_scores, dim=-1)\n",
        "        output = torch.matmul(attn_probs, V)\n",
        "        return output\n",
        "\n",
        "\n",
        "    def make_heads(self, x):\n",
        "        batch_size, seq_length, d_embedding = x.size()\n",
        "        y=x.view(batch_size, seq_length, self.n_heads, self.d_k).transpose(1, 2)\n",
        "        return x.view(batch_size, seq_length, self.n_heads, self.d_k).transpose(1, 2)\n",
        "\n",
        "    def join_heads(self, x):\n",
        "        batch_size, _, seq_length, d_k = x.size()\n",
        "        return x.transpose(1, 2).contiguous().view(batch_size, seq_length, self.d_embedding)\n",
        "\n",
        "\n",
        "    def forward(self, Q, K, V, mask=None):\n",
        "       #ToDo: Complete code\n",
        "      Q_proj = self.W_q(Q)\n",
        "      K_proj = self.W_k(K)\n",
        "      V_proj = self.W_v(V)\n",
        "\n",
        "      # Make heads\n",
        "      Q_heads = self.make_heads(Q_proj)\n",
        "      K_heads = self.make_heads(K_proj)\n",
        "      V_heads = self.make_heads(V_proj)\n",
        "\n",
        "      # Compute attention probabilities\n",
        "      attention_output = self.compute_attention_probs(Q_heads, K_heads, V_heads, mask)\n",
        "      joined_output = self.join_heads(attention_output)\n",
        "      output = self.W_o(joined_output)\n",
        "\n",
        "      return output\n",
        "\n"
      ]
    },
    {
      "cell_type": "markdown",
      "metadata": {
        "id": "nT0KE6fB6497"
      },
      "source": [
        "### Q2.2 Feed-forward layer (2 points)\n",
        "The output of the multi-head attention layer is used as an input to the feed-forward layer in the encoder. This layer is implemented in the following class. The **second task** is to complete the ```forward``` function of this class."
      ]
    },
    {
      "cell_type": "code",
      "execution_count": 36,
      "metadata": {
        "id": "InGgN9XN7muD"
      },
      "outputs": [],
      "source": [
        "class FeedForward(nn.Module):\n",
        "    def __init__(self, d_embedding, d_ff):\n",
        "        super(FeedForward, self).__init__()\n",
        "        self.fc1 = nn.Linear(d_embedding, d_ff)\n",
        "        self.fc2 = nn.Linear(d_ff, d_embedding)\n",
        "        self.relu = nn.ReLU()\n",
        "\n",
        "    def forward(self, x):\n",
        "        #ToDO: Complete code\n",
        "        x = self.relu(self.fc1(x))\n",
        "        x = self.relu(self.fc2(x))\n",
        "        return x"
      ]
    },
    {
      "cell_type": "markdown",
      "metadata": {
        "id": "uaZ1PCFJ9DXf"
      },
      "source": [
        "### Q2.3 Encoder Block (9 points)\n",
        "\n",
        "We now have all the necessary classes to build the Encoder block. The encoder block gets as input a batch of data. It first passes the input through the multi-attention layer. It then applies 1) a droput layer, 2) adds the input to the output of droupout layer as a residual, 3) applies a layer normalization, 4) and passes the output to the feed-forward layer. Finally, it applies 1) a droput layer, 2) adds the input to the output of droupout layer as a residual, and 3) Applies a layer normalization. The **third task** is to complete the ```forward``` function of this class."
      ]
    },
    {
      "cell_type": "code",
      "execution_count": 37,
      "metadata": {
        "id": "s0MnjetG_Zum"
      },
      "outputs": [],
      "source": [
        "class EncoderBlock(nn.Module):\n",
        "    def __init__(self, d_embedding, n_heads, d_ff, dropout):\n",
        "        super(EncoderBlock, self).__init__()\n",
        "        self.self_attention = MultiHeadAttention(d_embedding, n_heads)\n",
        "        self.feed_forward = FeedForward(d_embedding, d_ff)\n",
        "        self.norm1 = nn.LayerNorm(d_embedding)\n",
        "        self.norm2 = nn.LayerNorm(d_embedding)\n",
        "        self.dropout = nn.Dropout(dropout)\n",
        "\n",
        "    def forward(self, x, mask):\n",
        "        #ToDo: Complete code\n",
        "        \"\"\"\n",
        "        Returns: The output of encoder on a given input batch x\n",
        "        \"\"\"\n",
        "        atten = self.self_attention(x,x,x, mask)\n",
        "        x = x + self.dropout(atten)\n",
        "        x = self.norm1(x)\n",
        "        x = self.feed_forward(x)\n",
        "\n",
        "        #adding resid again\n",
        "        x = x + self.dropout(x)\n",
        "        x = self.norm2(x)\n",
        "        return x\n"
      ]
    },
    {
      "cell_type": "markdown",
      "metadata": {
        "id": "jru9E9dZ_aKv"
      },
      "source": [
        "### Q2.4 Decoder Block (20 points)\n",
        "\n",
        "In this part we will build the decoder block. The **fourth task** is to implement the DecoderBlock. You can refer to the lecture notes to find the architecture of the decoder block including the multi-attention layers, add and norm layers, and the feedforward layer. You can also add a *dropout* layer to the final add and norm layer.\n"
      ]
    },
    {
      "cell_type": "code",
      "execution_count": 38,
      "metadata": {
        "id": "HCX_D3xoFYJo"
      },
      "outputs": [],
      "source": [
        "class DecoderBlock(nn.Module):\n",
        "    def __init__(self, d_embedding, n_heads, d_ff, dropout):\n",
        "        super(DecoderBlock, self).__init__()\n",
        "        \"\"\"\n",
        "        Args:\n",
        "           self_attention: decoder's multi-head attention\n",
        "           cross_attention: The multi-head attention layer between the encoder and the decoder\n",
        "           feed_forward: feed-forward layer\n",
        "           mask: mask to be given for multi head attention\n",
        "           norm1: First Normalization layer\n",
        "           norm2: Second Normalization layer\n",
        "           norm3: Third Normalization layer\n",
        "           dropout: Final dropout layer\n",
        "        \"\"\"\n",
        "        self.self_attention = MultiHeadAttention(d_embedding, n_heads)\n",
        "        self.cross_attention = MultiHeadAttention(d_embedding, n_heads)\n",
        "        self.feed_forward = FeedForward(d_embedding, d_ff)\n",
        "        self.norm1 = nn.LayerNorm(d_embedding)\n",
        "        self.norm2 = nn.LayerNorm(d_embedding)\n",
        "        self.norm3 = nn.LayerNorm(d_embedding)\n",
        "        self.dropout = nn.Dropout(dropout)\n",
        "\n",
        "\n",
        "    def forward(self, x, enc_output, src_mask, tgt_mask):\n",
        "        \"\"\"\n",
        "        Returns: The output of decoder on a given input batch x\n",
        "        \"\"\"\n",
        "\n",
        "        #decoder attention\n",
        "        attention_output = self.self_attention(x,x,x, tgt_mask)\n",
        "        x = x + self.dropout(attention_output)\n",
        "        x = self.norm1(x)\n",
        "\n",
        "        #cross attention\n",
        "        cross_output = self.cross_attention(x,enc_output,enc_output, src_mask)\n",
        "        x = x + self.dropout(cross_output)\n",
        "        x = self.norm2(x)\n",
        "\n",
        "\n",
        "        #feed-forward\n",
        "        feed_output = self.feed_forward(x)\n",
        "        x = x + self.dropout(feed_output)\n",
        "        x = self.norm2(x)\n",
        "\n",
        "        return x"
      ]
    },
    {
      "cell_type": "markdown",
      "metadata": {
        "id": "UyH9ROxRI252"
      },
      "source": [
        "### Q2.5 Transformer Block (20 points)\n",
        "\n",
        "Finally, we use the classes defined for EncoderBlock and DecoderBlock to build the TransformerBlock. The **fifth task** is to complete the ```forward``` function of this class. Note that ```num_layers``` indicates the number of encoder and decoder layers in the transformer. You can refer to the final architecture of the Transformer from the lectures. You can also include a dropout layer after embedding the source and target inputs. Remember to apply positional encoding to the input batch before passing it to the transformer."
      ]
    },
    {
      "cell_type": "code",
      "execution_count": 39,
      "metadata": {
        "id": "2Sz2JAuwmnNn"
      },
      "outputs": [],
      "source": [
        "class PositionalEncoding(nn.Module):\n",
        "    def __init__(self, d_embedding, max_seq_length):\n",
        "        super(PositionalEncoding, self).__init__()\n",
        "\n",
        "        pe = torch.zeros(max_seq_length, d_embedding)\n",
        "        position = torch.arange(0, max_seq_length, dtype=torch.float).unsqueeze(1)\n",
        "        div_term = torch.exp(torch.arange(0, d_embedding, 2).float() * -(math.log(10000.0) / d_embedding))\n",
        "\n",
        "        pe[:, 0::2] = torch.sin(position * div_term)\n",
        "        pe[:, 1::2] = torch.cos(position * div_term)\n",
        "\n",
        "        self.register_buffer('pe', pe.unsqueeze(0))\n",
        "\n",
        "    def forward(self, x):\n",
        "        return x + self.pe[:, :x.size(1)]\n",
        "\n",
        "class Transformer(nn.Module):\n",
        "    def __init__(self, src_vocab_size, tgt_vocab_size, d_embedding, n_heads, num_layers, d_ff, max_seq_length, dropout):\n",
        "        super(Transformer, self).__init__()\n",
        "        self.encoder_embedding = nn.Embedding(src_vocab_size, d_embedding)\n",
        "        self.decoder_embedding = nn.Embedding(tgt_vocab_size, d_embedding)\n",
        "        self.positional_encoding = PositionalEncoding(d_embedding, max_seq_length)\n",
        "\n",
        "        self.encoder_layers = nn.ModuleList([EncoderBlock(d_embedding, n_heads, d_ff, dropout) for _ in range(num_layers)])\n",
        "        self.decoder_layers = nn.ModuleList([DecoderBlock(d_embedding, n_heads, d_ff, dropout) for _ in range(num_layers)])\n",
        "\n",
        "        self.fc = nn.Linear(d_embedding, tgt_vocab_size)\n",
        "        self.dropout = nn.Dropout(dropout)\n",
        "\n",
        "    # Masking the input; the outputs returned by this function should be passed to encoder and decoder layers\n",
        "    def generate_mask(self, src, tgt):\n",
        "        src_mask = (src != 0).unsqueeze(1).unsqueeze(2)\n",
        "        tgt_mask = (tgt != 0).unsqueeze(1).unsqueeze(3)\n",
        "        seq_length = tgt.size(1)\n",
        "        nopeak_mask = (1 - torch.triu(torch.ones(1, seq_length, seq_length), diagonal=1)).bool()\n",
        "        tgt_mask = tgt_mask & nopeak_mask\n",
        "        return src_mask, tgt_mask\n",
        "\n",
        "    def forward(self, src, tgt):\n",
        "        #ToDo: complete the code\n",
        "        src_mask, tgt_mask = self.generate_mask(src, tgt)\n",
        "        \"\"\"\n",
        "        Returns: The output of transformer on a given input batch x\n",
        "        \"\"\"\n",
        "        src_embedded = self.encoder_embedding(src)\n",
        "        src_embedded = self.positional_encoding(src_embedded)\n",
        "\n",
        "        encoder_output = src_embedded\n",
        "        for encoder_layer in self.encoder_layers:\n",
        "            encoder_output = encoder_layer(encoder_output, src_mask)\n",
        "\n",
        "        tgt_embedded = self.decoder_embedding(tgt)\n",
        "        tgt_embedded = self.positional_encoding(tgt_embedded)\n",
        "\n",
        "\n",
        "        decoder_output = tgt_embedded\n",
        "        for decoder_layer in self.decoder_layers:\n",
        "            decoder_output = decoder_layer(decoder_output, encoder_output, src_mask, tgt_mask)\n",
        "\n",
        "        output = self.fc(self.dropout(decoder_output))\n",
        "        return output\n",
        "\n",
        "\n"
      ]
    },
    {
      "cell_type": "markdown",
      "metadata": {
        "id": "dGtuTlqWms4B"
      },
      "source": [
        "### Q2.6 Training (5 points)\n",
        "We can now train the model on an imaginary randomly generated dataset. The **sixth task** is to complete the training code and plot the training loss."
      ]
    },
    {
      "cell_type": "code",
      "execution_count": 40,
      "metadata": {
        "colab": {
          "base_uri": "https://localhost:8080/"
        },
        "id": "94xoG6QF5gnv",
        "outputId": "41714a79-35bd-4dd6-8e35-9e0abeda00c7"
      },
      "outputs": [
        {
          "name": "stdout",
          "output_type": "stream",
          "text": [
            "Epoch [1/25], Loss: 8.6991 \n",
            "Epoch [2/25], Loss: 8.5934 \n",
            "Epoch [3/25], Loss: 8.5271 \n",
            "Epoch [4/25], Loss: 8.4771 \n",
            "Epoch [5/25], Loss: 8.4330 \n",
            "Epoch [6/25], Loss: 8.3841 \n",
            "Epoch [7/25], Loss: 8.3298 \n",
            "Epoch [8/25], Loss: 8.2679 \n",
            "Epoch [9/25], Loss: 8.2058 \n",
            "Epoch [10/25], Loss: 8.1320 \n",
            "Epoch [11/25], Loss: 8.0658 \n",
            "Epoch [12/25], Loss: 8.0053 \n",
            "Epoch [13/25], Loss: 7.9380 \n",
            "Epoch [14/25], Loss: 7.8679 \n",
            "Epoch [15/25], Loss: 7.7991 \n",
            "Epoch [16/25], Loss: 7.7157 \n",
            "Epoch [17/25], Loss: 7.6458 \n",
            "Epoch [18/25], Loss: 7.5762 \n",
            "Epoch [19/25], Loss: 7.4988 \n",
            "Epoch [20/25], Loss: 7.4174 \n",
            "Epoch [21/25], Loss: 7.3456 \n",
            "Epoch [22/25], Loss: 7.2677 \n",
            "Epoch [23/25], Loss: 7.1898 \n",
            "Epoch [24/25], Loss: 7.1191 \n",
            "Epoch [25/25], Loss: 7.0398 \n"
          ]
        },
        {
          "data": {
            "image/png": "[encoded data removed]",
            "text/plain": [
              "<Figure size 640x480 with 1 Axes>"
            ]
          },
          "metadata": {},
          "output_type": "display_data"
        }
      ],
      "source": [
        "src_vocab_size = 5000\n",
        "tgt_vocab_size = 5000\n",
        "d_embedding = 512\n",
        "n_heads = 8\n",
        "num_layers = 6\n",
        "d_ff = 2048\n",
        "max_seq_length = 100\n",
        "dropout = 0.1\n",
        "nums_epoch =25\n",
        "loss_list = []\n",
        "\n",
        "transformer = Transformer(src_vocab_size, tgt_vocab_size, d_embedding, n_heads, num_layers, d_ff, max_seq_length, dropout)\n",
        "\n",
        "# Generate random sample data\n",
        "src_data = torch.randint(1, src_vocab_size, (64, max_seq_length))\n",
        "tgt_data = torch.randint(1, tgt_vocab_size, (64, max_seq_length))\n",
        "\n",
        "criterion = nn.CrossEntropyLoss(ignore_index=0)\n",
        "optimizer = optim.Adam(transformer.parameters(), lr=0.0001, betas=(0.9, 0.98), eps=1e-9)\n",
        "\n",
        "transformer.train()\n",
        "\n",
        "for epoch in range(nums_epoch):\n",
        "   #ToDo: complete the code\n",
        "   transformer_out = transformer(src_data, tgt_data[:,:-1])\n",
        "   # Compute loss\n",
        "   loss = criterion(transformer_out.view(-1, tgt_vocab_size), tgt_data[:,1:].contiguous().view(-1))\n",
        "   optimizer.zero_grad()\n",
        "   loss.backward()\n",
        "   optimizer.step()\n",
        "   loss_list.append(loss.item())\n",
        "   print(f'Epoch [{epoch+1}/{nums_epoch}], Loss: {loss.item():.4f} ')\n",
        "   \n",
        "plt.plot(loss_list)\n",
        "plt.xlabel('Epoch')\n",
        "plt.ylabel('Loss')\n",
        "plt.title('Training Loss')\n",
        "plt.show()\n",
        "\n"
      ]
    }
  ],
  "metadata": {
    "colab": {
      "provenance": [],
      "toc_visible": true
    },
    "kernelspec": {
      "display_name": "Python 3",
      "name": "python3"
    },
    "language_info": {
      "codemirror_mode": {
        "name": "ipython",
        "version": 3
      },
      "file_extension": ".py",
      "mimetype": "text/x-python",
      "name": "python",
      "nbconvert_exporter": "python",
      "pygments_lexer": "ipython3",
      "version": "3.10.13"
    }
  },
  "nbformat": 4,
  "nbformat_minor": 0
}
